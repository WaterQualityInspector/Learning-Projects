{
 "cells": [
  {
   "cell_type": "code",
   "execution_count": 15,
   "metadata": {
    "collapsed": true
   },
   "outputs": [
    {
     "name": "stdout",
     "output_type": "stream",
     "text": [
      "  3801      123\n",
      "-    2    +  49\n",
      "------    -----\n",
      "\n"
     ]
    }
   ],
   "source": [
    "import re\n",
    "\n",
    "\n",
    "def arithmetic_arranger(problems, showOutput=False):\n",
    "  answers, outputWidth, operations, numbers = [], [], [], []\n",
    "  arranged_problems=\"\"\n",
    "  err = False\n",
    "\n",
    "  if len(problems) <= 5:  #Parse them and split them into cleaner lists\n",
    "    for problem in problems:\n",
    "      operands = re.split(\"\\s+\", problem)\n",
    "\n",
    "      if operands[1] not in (\"+\", \"-\"):\n",
    "        arranged_problems = \"Error: Operator must be '+' or '-'.\"\n",
    "        err=True\n",
    "        break\n",
    "      elif len(operands) > 3:\n",
    "        arranged_problems = \"Error: Too many numerical entries.\"\n",
    "        err=True\n",
    "        break\n",
    "      else:\n",
    "        if len(re.findall(\"\\D\", operands[0])) > 0 or len(\n",
    "            re.findall(\"\\D\", operands[2])) > 0:\n",
    "          arranged_problems = \"Error: Numbers must only contain digits.\"\n",
    "          err=True\n",
    "          break\n",
    "        elif len(operands[0]) > 4 or len(operands[2]) > 4:\n",
    "          arranged_problems = \"Error: Numbers cannot be more than four digits.\"\n",
    "          err=True\n",
    "          break\n",
    "\n",
    "      if operands[1] == \"+\":\n",
    "        #addition\n",
    "        answers.append(int(operands[0]) + int(operands[2]))\n",
    "        operations.append(\"+\")\n",
    "      else:\n",
    "        answers.append(int(operands[0]) - int(operands[2]))\n",
    "        operations.append(\"-\")\n",
    "\n",
    "      outputWidth.append(max(len(operands[0]), len(operands[2])) + 2)\n",
    "      numbers.append([operands[0], operands[2]])\n",
    "\n",
    "  else:\n",
    "    arranged_problems = \"Error: Too Many Problems.\"\n",
    "    err=True\n",
    "\n",
    "  if not err:\n",
    "\n",
    "    for count, number in enumerate(numbers):  #process the first line\n",
    "      for i in range(outputWidth[count] - len(number[0])):\n",
    "        arranged_problems += \" \"\n",
    "      arranged_problems += number[0]\n",
    "\n",
    "      if count != (len(numbers) - 1):\n",
    "        arranged_problems += \"    \"\n",
    "      else:\n",
    "        arranged_problems += \"\\n\"\n",
    "\n",
    "    for count, operation in enumerate(operations):  #process the second line\n",
    "      arranged_problems += operation\n",
    "\n",
    "      for i in range(outputWidth[count] - len(numbers[count][1]) - 1):\n",
    "        arranged_problems += \" \"\n",
    "      arranged_problems += numbers[count][1]\n",
    "\n",
    "      if count != (len(numbers) - 1):\n",
    "        arranged_problems += \"    \"\n",
    "      else:\n",
    "        arranged_problems += \"\\n\"\n",
    "\n",
    "    for count, number in enumerate(numbers):  # process the third line\n",
    "      for i in range(outputWidth[count]):\n",
    "        arranged_problems += \"-\"\n",
    "\n",
    "      if count != (len(numbers) - 1):\n",
    "        arranged_problems += \"    \"\n",
    "      else:\n",
    "        arranged_problems += \"\\n\"\n",
    "\n",
    "    if showOutput:\n",
    "        for count, answer in enumerate(answers):  #process the answer line\n",
    "          for i in range(outputWidth[count] - len(str(answer))):\n",
    "            arranged_problems += \" \"\n",
    "          arranged_problems += str(answer)\n",
    "\n",
    "          if count != (len(answers) - 1):\n",
    "            arranged_problems += \"    \"\n",
    "          else:\n",
    "            arranged_problems += \"\\n\"\n",
    "\n",
    "  return arranged_problems\n",
    "\n",
    "#print(\n",
    "#  arithmetic_arranger(['3801 - 2', '123 + 49']))"
   ]
  },
  {
   "cell_type": "code",
   "execution_count": null,
   "outputs": [],
   "source": [],
   "metadata": {
    "collapsed": false
   }
  }
 ],
 "metadata": {
  "kernelspec": {
   "display_name": "Python 3",
   "language": "python",
   "name": "python3"
  },
  "language_info": {
   "codemirror_mode": {
    "name": "ipython",
    "version": 2
   },
   "file_extension": ".py",
   "mimetype": "text/x-python",
   "name": "python",
   "nbconvert_exporter": "python",
   "pygments_lexer": "ipython2",
   "version": "2.7.6"
  }
 },
 "nbformat": 4,
 "nbformat_minor": 0
}
