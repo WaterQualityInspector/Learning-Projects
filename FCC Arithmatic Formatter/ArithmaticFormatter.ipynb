{
 "cells": [
  {
   "cell_type": "code",
   "execution_count": 3,
   "metadata": {
    "collapsed": true
   },
   "outputs": [
    {
     "name": "stdout",
     "output_type": "stream",
     "text": [
      "   32      3801      45      123\n",
      "+ 698    -    2    + 43    +  49\n",
      "-----    ------    ----    -----\n",
      "\n",
      "============================= test session starts =============================\n",
      "platform win32 -- Python 3.9.12, pytest-7.2.2, pluggy-1.0.0 -- D:\\ProgramFiles\\Conda\\python.exe\n",
      "cachedir: .pytest_cache\n",
      "rootdir: D:\\Documents\\CodingProjects\\Practice\n",
      "plugins: anyio-3.5.0\n",
      "collecting ... collected 0 items\n",
      "\n",
      "============================ no tests ran in 0.01s ============================\n"
     ]
    },
    {
     "data": {
      "text/plain": "<ExitCode.NO_TESTS_COLLECTED: 5>"
     },
     "execution_count": 3,
     "metadata": {},
     "output_type": "execute_result"
    }
   ],
   "source": [
    "# This entrypoint file to be used in development. Start by reading README.md\n",
    "from pytest import main\n",
    "\n",
    "from arithmetic_arranger import arithmetic_arranger\n",
    "\n",
    "print(\n",
    "  arithmetic_arranger([\"32 + 698\", \"3801 - 2\", \"45 + 43\", \"123 + 49\"], False))\n",
    "\n",
    "# Run unit tests automatically\n",
    "main(['-vv'])\n"
   ]
  },
  {
   "cell_type": "code",
   "execution_count": null,
   "outputs": [],
   "source": [],
   "metadata": {
    "collapsed": false
   }
  }
 ],
 "metadata": {
  "kernelspec": {
   "display_name": "Python 3",
   "language": "python",
   "name": "python3"
  },
  "language_info": {
   "codemirror_mode": {
    "name": "ipython",
    "version": 2
   },
   "file_extension": ".py",
   "mimetype": "text/x-python",
   "name": "python",
   "nbconvert_exporter": "python",
   "pygments_lexer": "ipython2",
   "version": "2.7.6"
  }
 },
 "nbformat": 4,
 "nbformat_minor": 0
}
